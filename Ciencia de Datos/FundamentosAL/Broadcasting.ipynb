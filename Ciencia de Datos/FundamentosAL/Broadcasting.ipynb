{
 "cells": [
  {
   "cell_type": "markdown",
   "metadata": {},
   "source": [
    "> Se debe recordar que para sumar matrices, estas deben tener las mismas dimesiones. Sin embargo, se puede sumar una matriz con un vector, en este caso; para poderlo hacer el vector debe tener el mismo número de columnas que la matriz. El vector se repetirá tantas veces como filas tenga la matriz. Esto último se conoce como *broadcasting*, completar el elemento de menor dimesión hasta completar o igualar al de mayor dimensión.\n",
    "\n",
    "A continuación un ejemplo de lo anterior."
   ]
  },
  {
   "cell_type": "code",
   "execution_count": 1,
   "metadata": {},
   "outputs": [],
   "source": [
    "import numpy as np"
   ]
  },
  {
   "cell_type": "code",
   "execution_count": 2,
   "metadata": {},
   "outputs": [
    {
     "name": "stdout",
     "output_type": "stream",
     "text": [
      "[[15 30 45 60 75]\n",
      " [12 24 36 48 60]\n",
      " [16 32 48 64 86]\n",
      " [17 34 51 68 85]\n",
      " [19 38 57 76 95]]\n"
     ]
    }
   ],
   "source": [
    "matriz = np.array([[5,10,15,20,25],[2,4,6,8,10],[6,12,18,24,36],[7,14,21,28,35],[9,18,27,36,45]])\n",
    "vector = np.array([10,20,30,40,50])\n",
    "resultado = matriz + vector\n",
    "print(resultado)"
   ]
  }
 ],
 "metadata": {
  "interpreter": {
   "hash": "723f47d956c65a1aa0e4a152dd5dda8c97943716fcaf469bb6d8d3bcc25f8869"
  },
  "kernelspec": {
   "display_name": "Python 3.9.7 64-bit ('base': conda)",
   "language": "python",
   "name": "python3"
  },
  "language_info": {
   "codemirror_mode": {
    "name": "ipython",
    "version": 3
   },
   "file_extension": ".py",
   "mimetype": "text/x-python",
   "name": "python",
   "nbconvert_exporter": "python",
   "pygments_lexer": "ipython3",
   "version": "3.9.7"
  },
  "orig_nbformat": 4
 },
 "nbformat": 4,
 "nbformat_minor": 2
}
