{
 "cells": [
  {
   "cell_type": "code",
   "execution_count": null,
   "metadata": {},
   "outputs": [],
   "source": [
    "%matplotlib inline\n",
    "\n",
    "import numpy as np\n",
    "import matplotlib.pyplot as plt\n",
    "\n",
    "v1 = np.array([1,1])\n",
    "v2 = np.array([-1,-1])\n",
    "\n",
    "for a in range(-10,10):\n",
    "    for b in range(-10,10):\n",
    "        plt.scatter(v1[0]*a+v2[0]*b,v1[1]*a+v2[1]*b,\n",
    "                        marker='.',color='orange')\n",
    "\n",
    "plt.xlim(-25,25)\n",
    "plt.ylim(-25,25)\n",
    "plt.axvline(x=0,color='grey')\n",
    "plt.axhline(y=0,color='grey')\n",
    "plt.show() "
   ]
  },
  {
   "cell_type": "markdown",
   "metadata": {},
   "source": [
    "> Un conjunto de vectores es linealmente independiente si ninguno de ellos se puede escribir como combinación lineal de los otros vectores. Es lo mismo que decir que, si a partir de la matriz original se puede llegar a la matriz identidad, los vectores son linealmente independientes o si el determinante de la matriz es diferente de 0."
   ]
  },
  {
   "cell_type": "markdown",
   "metadata": {},
   "source": [
    "> En otras palabras, un conjunto de vectores son linealmente independientes cuando *$c_1*\\vec{a} + c_2*\\vec{b} + c_3*\\vec{c} + \\cdots + c_n\\vec{n} = 0$* la única solución para que se cumpla la ecuación es que el valor de todas las constantes $c_n$ sea igual a 0, o como se dice, la solución del sistema sea una solución trivial."
   ]
  }
 ],
 "metadata": {
  "interpreter": {
   "hash": "723f47d956c65a1aa0e4a152dd5dda8c97943716fcaf469bb6d8d3bcc25f8869"
  },
  "kernelspec": {
   "display_name": "Python 3.9.7 64-bit ('base': conda)",
   "language": "python",
   "name": "python3"
  },
  "language_info": {
   "codemirror_mode": {
    "name": "ipython",
    "version": 3
   },
   "file_extension": ".py",
   "mimetype": "text/x-python",
   "name": "python",
   "nbconvert_exporter": "python",
   "pygments_lexer": "ipython3",
   "version": "3.9.7"
  },
  "orig_nbformat": 4
 },
 "nbformat": 4,
 "nbformat_minor": 2
}
