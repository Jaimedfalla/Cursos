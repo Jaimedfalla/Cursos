{
 "cells": [
  {
   "cell_type": "code",
   "execution_count": null,
   "metadata": {},
   "outputs": [],
   "source": [
    "import numpy as np"
   ]
  },
  {
   "cell_type": "code",
   "execution_count": null,
   "metadata": {},
   "outputs": [],
   "source": [
    "escalar = 5.679\n",
    "vector = np.array([3,4,5,6])\n",
    "matriz = np.array([[1,2],[3,4],[5,6]])\n",
    "tensor = np.array([\n",
    "    [[1,2,3,30],[4,5,6,31],[7,8,9,32]],\n",
    "    [[11,12,13,33],[14,15,16,34],[17,18,19,35]],\n",
    "    [[21,22,23,36],[24,25,26,37],[27,28,29,38]]\n",
    "])"
   ]
  },
  {
   "cell_type": "code",
   "execution_count": null,
   "metadata": {},
   "outputs": [],
   "source": [
    "vector_t = vector.T # Con el .T se calcula el traspuesto\n",
    "print(vector_t)\n",
    "print('-'*10,'Traspuesta de la matriz','-'*10)\n",
    "matriz_t = matriz.T\n",
    "print(matriz_t)\n",
    "print(f'Dimension original:{matriz.shape}. Dimensión de la traspuesta:{matriz_t.shape}')\n",
    "print('-'*10,'Traspuesta del tensor','-'*10)\n",
    "tensor_t = tensor.T\n",
    "print(tensor)\n",
    "print('*'*20)\n",
    "print(tensor_t)\n",
    "print(f'Dimension original:{tensor.shape}. Dimensión de la traspuesta:{tensor_t.shape}')"
   ]
  },
  {
   "cell_type": "markdown",
   "metadata": {},
   "source": [
    "> A<sup>T<sup>T</sup></sup> = A"
   ]
  }
 ],
 "metadata": {
  "interpreter": {
   "hash": "723f47d956c65a1aa0e4a152dd5dda8c97943716fcaf469bb6d8d3bcc25f8869"
  },
  "kernelspec": {
   "display_name": "Python 3.9.7 64-bit ('base': conda)",
   "language": "python",
   "name": "python3"
  },
  "language_info": {
   "codemirror_mode": {
    "name": "ipython",
    "version": 3
   },
   "file_extension": ".py",
   "mimetype": "text/x-python",
   "name": "python",
   "nbconvert_exporter": "python",
   "pygments_lexer": "ipython3",
   "version": "3.9.7"
  },
  "orig_nbformat": 4
 },
 "nbformat": 4,
 "nbformat_minor": 2
}
