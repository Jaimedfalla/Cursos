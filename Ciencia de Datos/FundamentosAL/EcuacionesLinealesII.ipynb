{
 "cells": [
  {
   "cell_type": "markdown",
   "metadata": {},
   "source": [
    "Resolveremos el siguiente sistema de ecuaciones lineales\n",
    "        \n",
    "        3x + y = 1\n",
    "        2x + y = 1"
   ]
  },
  {
   "cell_type": "code",
   "execution_count": null,
   "metadata": {},
   "outputs": [],
   "source": [
    "% matplotlib inline"
   ]
  },
  {
   "cell_type": "code",
   "execution_count": null,
   "metadata": {},
   "outputs": [],
   "source": [
    "import numpy as np\n",
    "import matplotlib.pyplot as plt\n",
    "\n",
    "np.set_printoptions(suppress=True)"
   ]
  },
  {
   "cell_type": "code",
   "execution_count": null,
   "metadata": {},
   "outputs": [],
   "source": [
    "x = np.arange(-10,10)\n",
    "y_1 = 3*x + 1\n",
    "y_2 = 2*x + 1"
   ]
  },
  {
   "cell_type": "code",
   "execution_count": null,
   "metadata": {},
   "outputs": [],
   "source": [
    "plt.figure()\n",
    "plt.plot(x,y_1)\n",
    "plt.plot(x,y_2)\n",
    "plt.xlim(-5,5)\n",
    "plt.ylim(-5,5)\n",
    "plt.axvline(x=0,color='grey')\n",
    "plt.axhline(y=0,color='grey')"
   ]
  },
  {
   "cell_type": "code",
   "execution_count": null,
   "metadata": {},
   "outputs": [],
   "source": [
    "A = np.array([[3,1],[2,1]])\n",
    "b = np.array([[1],[1]])\n",
    "print(np.linalg.inv(A).dot(b))"
   ]
  },
  {
   "cell_type": "markdown",
   "metadata": {},
   "source": [
    "> Cuando se tiene más ecuaciones que variables, el sistema se denomina: *sobredeterminado* No tiene solución\n",
    "\n",
    "> Cuando tiene igual número de ecuaciones que de variables, se denomina: *determinado*. Tiene una única solución\n",
    "\n",
    "> Cuando tiene más variables que ecuaciones, se denomina: *indeterminado* Tiene infinitas soluciones"
   ]
  }
 ],
 "metadata": {
  "interpreter": {
   "hash": "723f47d956c65a1aa0e4a152dd5dda8c97943716fcaf469bb6d8d3bcc25f8869"
  },
  "kernelspec": {
   "display_name": "Python 3.9.7 64-bit ('base': conda)",
   "language": "python",
   "name": "python3"
  },
  "language_info": {
   "codemirror_mode": {
    "name": "ipython",
    "version": 3
   },
   "file_extension": ".py",
   "mimetype": "text/x-python",
   "name": "python",
   "nbconvert_exporter": "python",
   "pygments_lexer": "ipython3",
   "version": "3.9.7"
  },
  "orig_nbformat": 4
 },
 "nbformat": 4,
 "nbformat_minor": 2
}
