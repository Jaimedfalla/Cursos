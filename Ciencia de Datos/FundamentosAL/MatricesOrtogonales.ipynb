{
 "cells": [
  {
   "cell_type": "markdown",
   "metadata": {},
   "source": [
    "Una matriz es ortogonal cuando todas sus filas y columnas son mutuamente ortonormales. Tenemos la siguiente matriz\n",
    "\n",
    "$A=\\begin{bmatrix}1&0&0\\\\0&1&0\\\\0&0&1\\end{bmatrix} \\to A \\perp \\leftrightarrow v_1 \\perp v_2 \\space \\& \\space v_1 \\perp v_3 \\space \\& \\space v_2 \\perp v_3$ donde $V_1$,$v_2$ y $v_3$ son cada uno de los vectores de las filas y columnas de la matriz A y donde $|v_1|=1$, $|v_2|=1$ y $|v_3|=1$\n",
    "\n",
    "Así mismo, una matriz ortogonal es una matriz cuadrada cuya matriz inversa coincide con su matriz traspuesta.\n",
    "\n",
    "$A^T=A^{-1}$"
   ]
  },
  {
   "cell_type": "code",
   "execution_count": 9,
   "metadata": {},
   "outputs": [
    {
     "name": "stdout",
     "output_type": "stream",
     "text": [
      "0\n"
     ]
    }
   ],
   "source": [
    "import numpy as np\n",
    "\n",
    "matriz = np.array([[1,0,0],[0,1,0],[0,0,1]])\n",
    "print(matriz[:,0].dot(matriz[:,1])) # ¿v1 es ortogonal con v2?"
   ]
  },
  {
   "cell_type": "code",
   "execution_count": 10,
   "metadata": {},
   "outputs": [
    {
     "name": "stdout",
     "output_type": "stream",
     "text": [
      "0\n"
     ]
    }
   ],
   "source": [
    "print(matriz[:,0].dot(matriz[:,2])) # ¿v1 es ortogonal con v3?"
   ]
  },
  {
   "cell_type": "code",
   "execution_count": 11,
   "metadata": {},
   "outputs": [
    {
     "name": "stdout",
     "output_type": "stream",
     "text": [
      "0\n"
     ]
    }
   ],
   "source": [
    "print(matriz[:,1].dot(matriz[:,2])) # ¿V2 es ortogonal con v3?"
   ]
  },
  {
   "cell_type": "code",
   "execution_count": 12,
   "metadata": {},
   "outputs": [
    {
     "name": "stdout",
     "output_type": "stream",
     "text": [
      "1.0\n",
      "1.0\n",
      "1.0\n"
     ]
    }
   ],
   "source": [
    "print(np.linalg.norm(matriz[:,0]))\n",
    "print(np.linalg.norm(matriz[:,1]))\n",
    "print(np.linalg.norm(matriz[:,2]))"
   ]
  }
 ],
 "metadata": {
  "interpreter": {
   "hash": "723f47d956c65a1aa0e4a152dd5dda8c97943716fcaf469bb6d8d3bcc25f8869"
  },
  "kernelspec": {
   "display_name": "Python 3.9.7 64-bit ('base': conda)",
   "language": "python",
   "name": "python3"
  },
  "language_info": {
   "codemirror_mode": {
    "name": "ipython",
    "version": 3
   },
   "file_extension": ".py",
   "mimetype": "text/x-python",
   "name": "python",
   "nbconvert_exporter": "python",
   "pygments_lexer": "ipython3",
   "version": "3.9.7"
  },
  "orig_nbformat": 4
 },
 "nbformat": 4,
 "nbformat_minor": 2
}
