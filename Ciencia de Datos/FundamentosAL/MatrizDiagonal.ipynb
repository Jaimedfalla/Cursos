{
 "cells": [
  {
   "cell_type": "code",
   "execution_count": 4,
   "metadata": {},
   "outputs": [
    {
     "name": "stdout",
     "output_type": "stream",
     "text": [
      "[[1 0 0 0 0]\n",
      " [0 2 0 0 0]\n",
      " [0 0 3 0 0]\n",
      " [0 0 0 4 0]\n",
      " [0 0 0 0 5]]\n"
     ]
    }
   ],
   "source": [
    "import numpy as np\n",
    "\n",
    "vector = np.array([1,2,3,4,5])\n",
    "A = np.diag(vector)\n",
    "print(A) # np.diag crea la matriz diagonal del vector"
   ]
  },
  {
   "cell_type": "markdown",
   "metadata": {},
   "source": [
    "El cálculo de una matriz diagonal, es relativamente fácil. Simplemente se divide cada uno de los elementos de la diagonal por el mismo. Un ejemplo.\n",
    "\n",
    "$A=\\begin{bmatrix}1&0&0&0&0\\\\0&2&0&0&0\\\\0&0&3&0&0\\\\0&0&0&4&0\\\\0&0&0&0&5\\end{bmatrix} \\to\n",
    "A^{-1}=\\begin{bmatrix}1&0&0&0&0\\\\0&\\frac{1}{2}&0&0&0\\\\0&0&\\frac{1}{3}&0&0\\\\0&0&0&\\frac{1}{4}&0\\\\\n",
    "0&0&0&0&\\frac{1}{5}\\end{bmatrix}$\n",
    "\n",
    "Comprobemoslo ahora con python"
   ]
  },
  {
   "cell_type": "code",
   "execution_count": 11,
   "metadata": {},
   "outputs": [
    {
     "name": "stdout",
     "output_type": "stream",
     "text": [
      "-------------------- Inversa de A:\n",
      "[[1.         0.         0.         0.         0.        ]\n",
      " [0.         0.5        0.         0.         0.        ]\n",
      " [0.         0.         0.33333333 0.         0.        ]\n",
      " [0.         0.         0.         0.25       0.        ]\n",
      " [0.         0.         0.         0.         0.2       ]]\n",
      "-------------------- A·A¯¹\n",
      "[[1. 0. 0. 0. 0.]\n",
      " [0. 1. 0. 0. 0.]\n",
      " [0. 0. 1. 0. 0.]\n",
      " [0. 0. 0. 1. 0.]\n",
      " [0. 0. 0. 0. 1.]]\n"
     ]
    }
   ],
   "source": [
    "A_inv = np.linalg.inv(A) # Calculamos la inversa de A\n",
    "print('-'*20,'Inversa de A:')\n",
    "print(A_inv)\n",
    "print('-'*20,'A·A¯¹')\n",
    "print(A.dot(A_inv))"
   ]
  },
  {
   "cell_type": "markdown",
   "metadata": {},
   "source": [
    "> Otro concepto que se utiliza mucho en la ciencia de datos y machine learning es el concepto de matriz simétrica. Se dice que: *Una matriz es simétrica cuando su traspuesta es igual a la matriz original* es decir cuando A=A<sup>T</sup>"
   ]
  }
 ],
 "metadata": {
  "interpreter": {
   "hash": "723f47d956c65a1aa0e4a152dd5dda8c97943716fcaf469bb6d8d3bcc25f8869"
  },
  "kernelspec": {
   "display_name": "Python 3.9.7 64-bit ('base': conda)",
   "language": "python",
   "name": "python3"
  },
  "language_info": {
   "codemirror_mode": {
    "name": "ipython",
    "version": 3
   },
   "file_extension": ".py",
   "mimetype": "text/x-python",
   "name": "python",
   "nbconvert_exporter": "python",
   "pygments_lexer": "ipython3",
   "version": "3.9.7"
  },
  "orig_nbformat": 4
 },
 "nbformat": 4,
 "nbformat_minor": 2
}
