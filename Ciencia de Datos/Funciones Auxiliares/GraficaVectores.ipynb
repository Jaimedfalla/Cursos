{
 "cells": [
  {
   "cell_type": "code",
   "execution_count": null,
   "metadata": {},
   "outputs": [],
   "source": [
    "def graficarVectores(vecs,colors,alpha=1):\n",
    "    plt.axvline(x=0,color ='grey',zorder = 0) #Define el eje de las Y\n",
    "    plt.axhline(y=0,color='grey',zorder=0) #Define el eje de las X\n",
    "\n",
    "    for i in range(len(vecs)):\n",
    "        x = np.concatenate([[0,0],vecs[i]])\n",
    "        plt.quiver(x[0],x[1],x[2],x[3],angles='xy',\n",
    "                    scale_units='xy',scale=1,alpha=alpha,color=colors[i])"
   ]
  }
 ],
 "metadata": {
  "language_info": {
   "name": "python"
  },
  "orig_nbformat": 4
 },
 "nbformat": 4,
 "nbformat_minor": 2
}
